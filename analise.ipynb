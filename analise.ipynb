{
 "cells": [
  {
   "cell_type": "code",
   "execution_count": 21,
   "id": "e8e09d0d",
   "metadata": {},
   "outputs": [],
   "source": [
    "import pandas as pd\n",
    "import re\n",
    "\n",
    "def carregar_data( CAMINHO_PROJETOS , CAMINHO_ALUNOS ):\n",
    "    try:\n",
    "        with open(CAMINHO_PROJETOS, 'r', encoding='utf-8') as arquivo:\n",
    "            linhas_projetos = arquivo.readlines()\n",
    "\n",
    "        dados_projetos = []\n",
    "        padrao_projeto = re.compile(r'\\(P(\\d+),\\s*(\\d+),\\s*(\\d+)\\)')  # id, vagas , nota minima\n",
    "\n",
    "        for linha in linhas_projetos:\n",
    "            match = padrao_projeto.search(linha)\n",
    "            if match:\n",
    "                pid, vagas, nota_minima = match.groups()\n",
    "                dados_projetos.append([f\"P{pid}\", int(vagas), float(nota_minima)])\n",
    "\n",
    "        df_projetos = pd.DataFrame(dados_projetos, columns=['id', 'vagas', 'nota_minima'])\n",
    "        df_projetos = df_projetos.set_index('id')\n",
    "\n",
    "        with open(CAMINHO_ALUNOS, 'r', encoding='utf-8') as arquivo:\n",
    "            linhas_alunos = arquivo.readlines()\n",
    "\n",
    "            dados_alunos = []\n",
    "            padrao_aluno = re.compile(r'\\(A(\\d+)\\):\\((.*?)\\)\\s*\\((\\d+)\\)')  # (id) :  preferencia , nota\n",
    "\n",
    "        for linha in linhas_alunos:\n",
    "            match = padrao_aluno.search(linha)\n",
    "            if match:\n",
    "                aid, preferencia, nota = match.groups()\n",
    "                preferencias = [p.strip() for p in preferencia.split(',')]\n",
    "                dados_alunos.append([f\"A{aid}\", preferencias, int(nota)]) ##\n",
    "        \n",
    "        df_alunos = pd.DataFrame(dados_alunos, columns=['id', 'preferencia', 'nota'])\n",
    "        df_alunos = df_alunos.set_index('id')\n",
    "\n",
    "        return df_projetos, df_alunos\n",
    "    except FileNotFoundError:\n",
    "        print(f\"Arquivo não encontrado\")\n",
    "        return None , None"
   ]
  },
  {
   "cell_type": "code",
   "execution_count": null,
   "id": "6380181a",
   "metadata": {},
   "outputs": [
    {
     "name": "stdout",
     "output_type": "stream",
     "text": [
      "    vagas  nota_minima\n",
      "id                    \n",
      "P1      2          5.0\n",
      "P2      1          5.0\n",
      "P3      2          4.0\n",
      "P4      1          5.0\n",
      "P5      2          4.0\n",
      "<class 'pandas.core.frame.DataFrame'>\n",
      "Index: 50 entries, P1 to P50\n",
      "Data columns (total 2 columns):\n",
      " #   Column       Non-Null Count  Dtype  \n",
      "---  ------       --------------  -----  \n",
      " 0   vagas        50 non-null     int64  \n",
      " 1   nota_minima  50 non-null     float64\n",
      "dtypes: float64(1), int64(1)\n",
      "memory usage: 1.2+ KB\n",
      "None\n",
      "        preferencia  nota\n",
      "id                       \n",
      "A1   [P1, P30, P50]     5\n",
      "A2   [P1, P30, P51]     5\n",
      "A3  [P30, P34, P35]     3\n",
      "A4     [P2, P3, P5]     4\n",
      "A5   [P4, P28, P34]     3\n",
      "<class 'pandas.core.frame.DataFrame'>\n",
      "Index: 200 entries, A1 to A200\n",
      "Data columns (total 2 columns):\n",
      " #   Column       Non-Null Count  Dtype \n",
      "---  ------       --------------  ----- \n",
      " 0   preferencia  200 non-null    object\n",
      " 1   nota         200 non-null    int64 \n",
      "dtypes: int64(1), object(1)\n",
      "memory usage: 4.7+ KB\n",
      "None\n"
     ]
    }
   ],
   "source": [
    "  #testes\n",
    "caminho_proj = 'data/projetodata.txt'\n",
    "caminho_alu = 'data/alunodata.txt'\n",
    "\n",
    "df_projetos, df_alunos = carregar_data(caminho_proj, caminho_alu)\n",
    "\n",
    "print(df_projetos.head())\n",
    "print(df_projetos.info())\n",
    "\n",
    "print(df_alunos.head())\n",
    "print(df_alunos.info())"
   ]
  }
 ],
 "metadata": {
  "kernelspec": {
   "display_name": ".venv",
   "language": "python",
   "name": "python3"
  },
  "language_info": {
   "codemirror_mode": {
    "name": "ipython",
    "version": 3
   },
   "file_extension": ".py",
   "mimetype": "text/x-python",
   "name": "python",
   "nbconvert_exporter": "python",
   "pygments_lexer": "ipython3",
   "version": "3.13.1"
  }
 },
 "nbformat": 4,
 "nbformat_minor": 5
}
