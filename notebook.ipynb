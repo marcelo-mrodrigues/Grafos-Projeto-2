{
 "cells": [
  {
   "cell_type": "code",
   "execution_count": null,
   "id": "e8e09d0d",
   "metadata": {},
   "outputs": [
    {
     "name": "stdout",
     "output_type": "stream",
     "text": [
      "Requirement already satisfied: pandas in c:\\users\\marce\\grafos-projeto-2\\.venv\\lib\\site-packages (2.3.0)\n",
      "Requirement already satisfied: numpy>=1.26.0 in c:\\users\\marce\\grafos-projeto-2\\.venv\\lib\\site-packages (from pandas) (2.3.0)\n",
      "Requirement already satisfied: python-dateutil>=2.8.2 in c:\\users\\marce\\grafos-projeto-2\\.venv\\lib\\site-packages (from pandas) (2.9.0.post0)\n",
      "Requirement already satisfied: pytz>=2020.1 in c:\\users\\marce\\grafos-projeto-2\\.venv\\lib\\site-packages (from pandas) (2025.2)\n",
      "Requirement already satisfied: tzdata>=2022.7 in c:\\users\\marce\\grafos-projeto-2\\.venv\\lib\\site-packages (from pandas) (2025.2)\n",
      "Requirement already satisfied: six>=1.5 in c:\\users\\marce\\grafos-projeto-2\\.venv\\lib\\site-packages (from python-dateutil>=2.8.2->pandas) (1.17.0)\n",
      "Note: you may need to restart the kernel to use updated packages.\n"
     ]
    }
   ],
   "source": [
    "%pip install pandas\n",
    "import pandas as pd\n",
    "import re\n",
    "\n",
    "def carregar_data( CAMINHO_PROJETOS , CAMINHO_ALUNOS ):\n",
    "    try:\n",
    "        with open(CAMINHO_PROJETOS, 'r', encoding='utf-8') as arquivo:\n",
    "            linhas_projetos = arquivo.readlines()\n",
    "\n",
    "        dados_projetos = []\n",
    "        padrao_projeto = re.compile(r'\\(P(\\d+),\\s*(\\d+),\\s*(\\d+)\\)')  # id, vagas , nota minima\n",
    "\n",
    "        for linha in linhas_projetos:\n",
    "            match = padrao_projeto.search(linha)\n",
    "            if match:\n",
    "                pid, vagas, nota_minima = match.groups()\n",
    "                dados_projetos.append([f\"P{pid}\", int(vagas), float(nota_minima)])\n",
    "\n",
    "        df_projetos = pd.DataFrame(dados_projetos, columns=['id', 'vagas', 'nota_minima'])\n",
    "        df_projetos = df_projetos.set_index('id')\n",
    "\n",
    "        return df_projetos , int(0)\n",
    "\n",
    "\n",
    "    except FileNotFoundError:\n",
    "        print(f\"Arquivo não encontrado: \")\n",
    "        return None"
   ]
  },
  {
   "cell_type": "code",
   "execution_count": 4,
   "id": "6380181a",
   "metadata": {},
   "outputs": [
    {
     "name": "stdout",
     "output_type": "stream",
     "text": [
      "Arquivo não encontrado: \n"
     ]
    },
    {
     "ename": "TypeError",
     "evalue": "cannot unpack non-iterable NoneType object",
     "output_type": "error",
     "traceback": [
      "\u001b[31m---------------------------------------------------------------------------\u001b[39m",
      "\u001b[31mTypeError\u001b[39m                                 Traceback (most recent call last)",
      "\u001b[36mCell\u001b[39m\u001b[36m \u001b[39m\u001b[32mIn[4]\u001b[39m\u001b[32m, line 4\u001b[39m\n\u001b[32m      1\u001b[39m caminho_proj = \u001b[33m'\u001b[39m\u001b[33mdata/projeto.txt\u001b[39m\u001b[33m'\u001b[39m\n\u001b[32m      2\u001b[39m caminho_alu = \u001b[33m'\u001b[39m\u001b[33mdata/aluno.txt\u001b[39m\u001b[33m'\u001b[39m\n\u001b[32m----> \u001b[39m\u001b[32m4\u001b[39m df_projetos, df_alunos = carregar_data(caminho_proj, caminho_alu)\n\u001b[32m      6\u001b[39m \u001b[38;5;28mprint\u001b[39m(df_projetos.head())\n\u001b[32m      7\u001b[39m \u001b[38;5;28mprint\u001b[39m(df_projetos.info())\n",
      "\u001b[31mTypeError\u001b[39m: cannot unpack non-iterable NoneType object"
     ]
    }
   ],
   "source": [
    "\n",
    "caminho_proj = 'data/projeto.txt'\n",
    "caminho_alu = 'data/aluno.txt'\n",
    "\n",
    "df_projetos, df_alunos = carregar_data(caminho_proj, caminho_alu)\n",
    "\n",
    "print(df_projetos.head())\n",
    "print(df_projetos.info())"
   ]
  }
 ],
 "metadata": {
  "kernelspec": {
   "display_name": ".venv",
   "language": "python",
   "name": "python3"
  },
  "language_info": {
   "codemirror_mode": {
    "name": "ipython",
    "version": 3
   },
   "file_extension": ".py",
   "mimetype": "text/x-python",
   "name": "python",
   "nbconvert_exporter": "python",
   "pygments_lexer": "ipython3",
   "version": "3.13.1"
  }
 },
 "nbformat": 4,
 "nbformat_minor": 5
}
